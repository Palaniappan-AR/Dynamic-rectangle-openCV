{
 "cells": [
  {
   "cell_type": "code",
   "execution_count": 1,
   "metadata": {},
   "outputs": [],
   "source": [
    "import  cv2\n",
    "import numpy as np\n",
    "\n",
    "#VARIABLES\n",
    "drawing=False\n",
    "x1,y1=-1,-1\n",
    "\n",
    "\n",
    "#FUNCTION\n",
    "def draw_rec(event,x,y,flags,params):\n",
    "    global x1,y1,drawing\n",
    "    \n",
    "    if event==cv2.EVENT_LBUTTONDOWN:\n",
    "        drawing=True\n",
    "        x1,y1=x,y\n",
    "        \n",
    "    elif event==cv2.EVENT_MOUSEMOVE:\n",
    "        if(drawing==True):\n",
    "            cv2.rectangle(img,(x1,y1),(x,y),color=(0,255,0),thickness=-1)\n",
    "        \n",
    "    elif event==cv2.EVENT_LBUTTONUP:\n",
    "        drawing=False\n",
    "        cv2.rectangle(img,(x1,y1),(x,y),color=(0,255,0),thickness=-1)\n",
    "\n",
    "#SHOWING THE IMAGE\n",
    "\n",
    "img=np.zeros(shape=(512,512,3))\n",
    "\n",
    "cv2.namedWindow(winname='Pic')\n",
    "\n",
    "cv2.setMouseCallback('Pic',draw_rec)\n",
    "\n",
    "while True:\n",
    "    \n",
    "    cv2.imshow('Pic',img)\n",
    "    \n",
    "    if cv2.waitKey(1) & 0xFF==27:\n",
    "        break\n",
    "cv2.destroyAllWindows()"
   ]
  },
  {
   "cell_type": "code",
   "execution_count": null,
   "metadata": {},
   "outputs": [],
   "source": []
  },
  {
   "cell_type": "code",
   "execution_count": null,
   "metadata": {},
   "outputs": [],
   "source": []
  }
 ],
 "metadata": {
  "kernelspec": {
   "display_name": "Python 3",
   "language": "python",
   "name": "python3"
  },
  "language_info": {
   "codemirror_mode": {
    "name": "ipython",
    "version": 3
   },
   "file_extension": ".py",
   "mimetype": "text/x-python",
   "name": "python",
   "nbconvert_exporter": "python",
   "pygments_lexer": "ipython3",
   "version": "3.8.5"
  }
 },
 "nbformat": 4,
 "nbformat_minor": 4
}
